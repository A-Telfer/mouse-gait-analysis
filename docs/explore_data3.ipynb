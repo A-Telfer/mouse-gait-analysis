{
 "cells": [
  {
   "cell_type": "code",
   "execution_count": 1,
   "metadata": {},
   "outputs": [],
   "source": [
    "%load_ext autoreload\n",
    "%autoreload 2"
   ]
  },
  {
   "cell_type": "code",
   "execution_count": 4,
   "metadata": {},
   "outputs": [
    {
     "name": "stdout",
     "output_type": "stream",
     "text": [
      "^C\n",
      "\u001b[31mERROR: Operation cancelled by user\u001b[0m\u001b[31m\n",
      "\u001b[0m"
     ]
    }
   ],
   "source": [
    "! pip install -q .."
   ]
  },
  {
   "cell_type": "code",
   "execution_count": 5,
   "metadata": {},
   "outputs": [],
   "source": [
    "import mouse_gait_analysis\n",
    "import pandas as pd\n",
    "import matplotlib.pyplot as plt\n",
    "import seaborn as sns\n",
    "\n",
    "from tqdm import tqdm\n",
    "from skimage import draw\n",
    "\n",
    "from mouse_gait_analysis.io import *\n",
    "from mouse_gait_analysis.utils import *\n",
    "from mouse_gait_analysis.plots import *"
   ]
  },
  {
   "cell_type": "code",
   "execution_count": 7,
   "metadata": {},
   "outputs": [
    {
     "name": "stdout",
     "output_type": "stream",
     "text": [
      "/shared/thea/trial-analysis/AccA19DLC_resnet50_A19allMar17shuffle1_1030000.h5\n",
      "/shared/thea/trial-analysis/Day10A19DLC_resnet50_A19allMar17shuffle1_1030000.h5\n",
      "/shared/thea/trial-analysis/Day1A19DLC_resnet50_A19allMar17shuffle1_1030000.h5\n",
      "/shared/thea/trial-analysis/Day4A19DLC_resnet50_A19allMar17shuffle1_1030000.h5\n"
     ]
    }
   ],
   "source": [
    "data_folder = Path(\"/shared/thea/trial-analysis/\")\n",
    "! ls {data_folder}/*.h5"
   ]
  },
  {
   "cell_type": "code",
   "execution_count": 24,
   "metadata": {},
   "outputs": [
    {
     "name": "stderr",
     "output_type": "stream",
     "text": [
      "/usr/local/lib/python3.10/site-packages/pandas/core/arraylike.py:396: RuntimeWarning: divide by zero encountered in log\n",
      "  result = getattr(ufunc, method)(*inputs, **kwargs)\n",
      "100%|██████████| 65946/65946 [00:01<00:00, 39897.00it/s]\n",
      "100%|██████████| 4839/4839 [00:21<00:00, 230.00it/s]\n",
      "/usr/local/lib/python3.10/site-packages/pandas/core/arraylike.py:396: RuntimeWarning: divide by zero encountered in log\n",
      "  result = getattr(ufunc, method)(*inputs, **kwargs)\n"
     ]
    },
    {
     "name": "stdout",
     "output_type": "stream",
     "text": [
      "AccA19, steps: 23 -- left_back_paw, stride-length: 12.20 +/- 2.35, duration: 28.48 +/- 10.68\n"
     ]
    },
    {
     "name": "stderr",
     "output_type": "stream",
     "text": [
      "100%|██████████| 65946/65946 [00:01<00:00, 50232.53it/s]\n",
      "100%|██████████| 4895/4895 [00:24<00:00, 199.40it/s]\n"
     ]
    },
    {
     "name": "stdout",
     "output_type": "stream",
     "text": [
      "AccA19, steps: 37 -- right_back_paw, stride-length: 14.08 +/- 5.61, duration: 30.49 +/- 10.79\n"
     ]
    },
    {
     "name": "stderr",
     "output_type": "stream",
     "text": [
      "/usr/local/lib/python3.10/site-packages/pandas/core/arraylike.py:396: RuntimeWarning: divide by zero encountered in log\n",
      "  result = getattr(ufunc, method)(*inputs, **kwargs)\n",
      "100%|██████████| 66000/66000 [00:01<00:00, 55515.34it/s]\n",
      "100%|██████████| 793/793 [00:03<00:00, 237.55it/s]\n",
      "/usr/local/lib/python3.10/site-packages/pandas/core/arraylike.py:396: RuntimeWarning: divide by zero encountered in log\n",
      "  result = getattr(ufunc, method)(*inputs, **kwargs)\n"
     ]
    },
    {
     "name": "stdout",
     "output_type": "stream",
     "text": [
      "Day10A19, steps: 17 -- left_back_paw, stride-length: 11.51 +/- 1.15, duration: 30.35 +/- 8.52\n"
     ]
    },
    {
     "name": "stderr",
     "output_type": "stream",
     "text": [
      "100%|██████████| 66000/66000 [00:01<00:00, 57164.12it/s]\n",
      "100%|██████████| 787/787 [00:03<00:00, 239.82it/s]\n"
     ]
    },
    {
     "name": "stdout",
     "output_type": "stream",
     "text": [
      "Day10A19, steps: 21 -- right_back_paw, stride-length: 11.57 +/- 1.54, duration: 31.24 +/- 8.82\n"
     ]
    },
    {
     "name": "stderr",
     "output_type": "stream",
     "text": [
      "/usr/local/lib/python3.10/site-packages/pandas/core/arraylike.py:396: RuntimeWarning: divide by zero encountered in log\n",
      "  result = getattr(ufunc, method)(*inputs, **kwargs)\n",
      "100%|██████████| 66000/66000 [00:01<00:00, 48946.75it/s]\n",
      "100%|██████████| 3121/3121 [00:13<00:00, 238.13it/s]\n",
      "/usr/local/lib/python3.10/site-packages/pandas/core/arraylike.py:396: RuntimeWarning: divide by zero encountered in log\n",
      "  result = getattr(ufunc, method)(*inputs, **kwargs)\n"
     ]
    },
    {
     "name": "stdout",
     "output_type": "stream",
     "text": [
      "Day1A19, steps: 23 -- left_back_paw, stride-length: 12.45 +/- 2.22, duration: 30.35 +/- 11.21\n"
     ]
    },
    {
     "name": "stderr",
     "output_type": "stream",
     "text": [
      "100%|██████████| 66000/66000 [00:01<00:00, 52186.22it/s]\n",
      "100%|██████████| 3287/3287 [00:14<00:00, 233.00it/s]\n"
     ]
    },
    {
     "name": "stdout",
     "output_type": "stream",
     "text": [
      "Day1A19, steps: 36 -- right_back_paw, stride-length: 13.75 +/- 3.83, duration: 28.50 +/- 10.15\n"
     ]
    },
    {
     "name": "stderr",
     "output_type": "stream",
     "text": [
      "/usr/local/lib/python3.10/site-packages/pandas/core/arraylike.py:396: RuntimeWarning: divide by zero encountered in log\n",
      "  result = getattr(ufunc, method)(*inputs, **kwargs)\n",
      "100%|██████████| 65661/65661 [00:01<00:00, 51575.39it/s]\n",
      "100%|██████████| 3595/3595 [00:15<00:00, 233.36it/s]\n",
      "/usr/local/lib/python3.10/site-packages/pandas/core/arraylike.py:396: RuntimeWarning: divide by zero encountered in log\n",
      "  result = getattr(ufunc, method)(*inputs, **kwargs)\n"
     ]
    },
    {
     "name": "stdout",
     "output_type": "stream",
     "text": [
      "Day4A19, steps: 19 -- left_back_paw, stride-length: 12.41 +/- 2.04, duration: 27.47 +/- 11.98\n"
     ]
    },
    {
     "name": "stderr",
     "output_type": "stream",
     "text": [
      "100%|██████████| 65661/65661 [00:01<00:00, 52550.33it/s]\n",
      "100%|██████████| 3529/3529 [00:15<00:00, 234.49it/s]\n"
     ]
    },
    {
     "name": "stdout",
     "output_type": "stream",
     "text": [
      "Day4A19, steps: 31 -- right_back_paw, stride-length: 13.25 +/- 4.44, duration: 26.55 +/- 11.68\n"
     ]
    }
   ],
   "source": [
    "results = []\n",
    "\n",
    "raw_videos = list(data_folder.glob('*.mp4'))\n",
    "raw_videos = list(filter(lambda x: 'labeled' not in x.parts[-1], raw_videos))\n",
    "                  \n",
    "for video in raw_videos:\n",
    "    fname = video.parts[-1].split('.')[0]\n",
    "    dlc_file = next(data_folder.glob(f'{fname}DLC*.h5'))\n",
    "\n",
    "    video_analysis = VideoAnalysis(\n",
    "        video,\n",
    "        dlc_file)\n",
    "\n",
    "    video_analysis.keypoints = filter_likelihood(video_analysis.keypoints, 0.8)\n",
    "    video_analysis.keypoints = filter_distance_traveled(video_analysis.keypoints, 10, 1)\n",
    "    \n",
    "    # Registration\n",
    "    video = Path(video_analysis.video).parts[-1]\n",
    "    registration_points = pd.read_csv(data_folder / \"registration_points.csv\")\n",
    "    registration_points['video'] = registration_points.video.apply(lambda x: Path(x).parts[-1])\n",
    "    points = registration_points.groupby('video').get_group(video)[['y', 'x']].values\n",
    "    w, h = 500, 500\n",
    "\n",
    "    target = [[0,0], [w,0], [w,h], [0,h]]\n",
    "    target = np.array(target)\n",
    "    transformer = PerspectiveTransformer()\n",
    "    transformer.register(points, target)\n",
    "    keypoints = transformer.apply(video_analysis.keypoints)\n",
    "    reader = VideoReader(video_analysis.video, transforms=[transformer])\n",
    "\n",
    "    # Steps\n",
    "    for bodypart in ['left_back_paw', 'right_back_paw']:\n",
    "        bodypart_df = keypoints.xs(bodypart, axis=1, level='bodyparts').droplevel(0, axis=1)\n",
    "\n",
    "        distances = []\n",
    "        distance_threshold = 0.8\n",
    "        d = 5\n",
    "        for i in range(1, d):\n",
    "            deltas = bodypart_df.diff(i).shift(-i)\n",
    "            distance = np.log(np.sqrt(deltas.x**2 + deltas.y**2))\n",
    "            distances.append(distance)\n",
    "            \n",
    "        distances = sum(distances) / len(distances)\n",
    "        distance_forward = distances < distance_threshold\n",
    "\n",
    "        distances = []\n",
    "        for i in range(-d, 0):\n",
    "            deltas = bodypart_df.diff(i)\n",
    "            distance = np.log(np.sqrt(deltas.x**2 + deltas.y**2))\n",
    "            distances.append(distance)\n",
    "            \n",
    "        distances = sum(distances) / len(distances)\n",
    "        distance_backwards = distances < distance_threshold\n",
    "        phase = distance_forward | distance_backwards\n",
    "\n",
    "        # Correction\n",
    "        # ----------\n",
    "        step_df = pd.DataFrame(index=distance.index, columns=['state', 'episode'])\n",
    "        step_df.state = phase.apply(lambda x: 'swing' if x else 'stance')\n",
    "        episode = 0\n",
    "        last = None\n",
    "        segment_start = 0\n",
    "        for idx in tqdm(step_df.index):\n",
    "            current = step_df.loc[idx].state\n",
    "            if current != last:\n",
    "                step_df.loc[segment_start:idx, 'episode'] = episode\n",
    "                episode += 1\n",
    "                segment_start = idx\n",
    "                last = current\n",
    "\n",
    "        step_df.loc[segment_start:idx, 'episode'] = episode\n",
    "\n",
    "        # Collapse small episodes\n",
    "        min_episode_size = 3\n",
    "        for episode in tqdm(sorted(step_df.episode.unique())):\n",
    "            index = step_df[step_df.episode == episode].iloc[0].name\n",
    "            if index-1 not in step_df.index:\n",
    "                continue\n",
    "\n",
    "            previous = step_df.loc[index-1]\n",
    "\n",
    "            # Collapse small episodes\n",
    "            if (step_df.episode == episode).sum() < min_episode_size:\n",
    "                step_df.loc[step_df.episode == episode, 'episode'] = previous.episode\n",
    "                step_df.loc[step_df.episode == episode, 'state'] = previous.state\n",
    "                \n",
    "            # Collapse side by side episodes of the same state\n",
    "            if step_df.loc[index, 'state'] == previous.state:\n",
    "                step_df.loc[step_df.episode == episode, 'episode'] = previous.episode\n",
    "\n",
    "        # Renumber episodes\n",
    "        episode_renumbering = {o:n for n,o in enumerate(sorted(step_df.episode.unique()))}\n",
    "        step_df.episode = step_df.episode.apply(lambda x: episode_renumbering[x])\n",
    "\n",
    "        # Episode output\n",
    "        episode_df = pd.DataFrame(columns=['stride_length', 'duration', 'state', 'start', 'end'], index=sorted(step_df.episode.unique()))\n",
    "\n",
    "        for episode, group in step_df.groupby('episode'):\n",
    "            group = group.dropna()\n",
    "\n",
    "            start_index = group.iloc[0].name\n",
    "            end_index = group.iloc[-1].name\n",
    "\n",
    "            deltas = bodypart_df.loc[[start_index,end_index]].diff().iloc[1]\n",
    "            distance = np.sqrt(deltas.x**2 + deltas.y**2)\n",
    "\n",
    "            episode_df.loc[episode, 'state'] = group.iloc[0].state\n",
    "            episode_df.loc[episode, 'stride_length'] = distance\n",
    "            episode_df.loc[episode, 'duration'] = end_index - start_index\n",
    "            episode_df.loc[episode, 'start'] = start_index\n",
    "            episode_df.loc[episode, 'end'] = end_index\n",
    "            # TODO look at distance left/right along line\n",
    "\n",
    "        episode_df = episode_df.dropna()\n",
    "\n",
    "        # Remove outliers \n",
    "        episode_df['duration'] = episode_df['duration'].apply(lambda x: np.nan if x > 50 else x)\n",
    "        episode_df['stride_length'] = episode_df['stride_length'].apply(lambda x: np.nan if x < 10 else x)\n",
    "        episode_df['stride_length'] = episode_df['stride_length'].apply(lambda x: np.nan if x > 100 else x)\n",
    "\n",
    "        # for column in ['stride_length', 'duration']:\n",
    "        #     std = episode_df[column].std()\n",
    "        #     mean = episode_df[column].mean()\n",
    "        #     episode_df[column] = episode_df[column].apply(lambda x: np.nan if x > mean+3*std else x)\n",
    "\n",
    "        episode_df = episode_df.dropna()\n",
    "\n",
    "        swing = episode_df[episode_df.state == 'swing']\n",
    "        print(f\"{fname}, steps: {len(swing)} -- {bodypart}, \"\n",
    "              f\"stride-length: {swing.stride_length.mean():.2f} +/- {swing.stride_length.std():.2f}, \"\n",
    "              f\"duration: {swing.duration.mean():.2f} +/- {swing.duration.std():.2f}\")\n",
    "\n",
    "        result = dict(\n",
    "            video=video,\n",
    "            bodypart=bodypart,\n",
    "            steps=len(swing),\n",
    "            stride_length_median=swing.stride_length.median(),\n",
    "            stride_length_mean=swing.stride_length.mean(),\n",
    "            stride_length_var=swing.stride_length.var(),\n",
    "            duration_median=swing.duration.median(),\n",
    "            duration_mean=swing.duration.mean(),\n",
    "            duration_std=swing.duration.std(),\n",
    "        )\n",
    "        results.append(result)"
   ]
  },
  {
   "cell_type": "code",
   "execution_count": null,
   "metadata": {},
   "outputs": [],
   "source": []
  }
 ],
 "metadata": {
  "kernelspec": {
   "display_name": "base",
   "language": "python",
   "name": "base"
  },
  "language_info": {
   "codemirror_mode": {
    "name": "ipython",
    "version": 3
   },
   "file_extension": ".py",
   "mimetype": "text/x-python",
   "name": "python",
   "nbconvert_exporter": "python",
   "pygments_lexer": "ipython3",
   "version": "3.10.11"
  },
  "orig_nbformat": 4
 },
 "nbformat": 4,
 "nbformat_minor": 2
}
