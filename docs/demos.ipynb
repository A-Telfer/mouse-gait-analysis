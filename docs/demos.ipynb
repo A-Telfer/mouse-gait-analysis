{
 "cells": [
  {
   "cell_type": "code",
   "execution_count": 2,
   "metadata": {},
   "outputs": [
    {
     "name": "stdout",
     "output_type": "stream",
     "text": [
      "Collecting seaborn\n",
      "  Using cached seaborn-0.12.2-py3-none-any.whl (293 kB)\n",
      "Requirement already satisfied: matplotlib!=3.6.1,>=3.1 in /home/andretelfer/anaconda3/envs/DLC_38/lib/python3.8/site-packages (from seaborn) (3.6.2)\n",
      "Requirement already satisfied: numpy!=1.24.0,>=1.17 in /home/andretelfer/anaconda3/envs/DLC_38/lib/python3.8/site-packages (from seaborn) (1.23.5)\n",
      "Requirement already satisfied: pandas>=0.25 in /home/andretelfer/anaconda3/envs/DLC_38/lib/python3.8/site-packages (from seaborn) (1.5.2)\n",
      "Requirement already satisfied: fonttools>=4.22.0 in /home/andretelfer/anaconda3/envs/DLC_38/lib/python3.8/site-packages (from matplotlib!=3.6.1,>=3.1->seaborn) (4.38.0)\n",
      "Requirement already satisfied: contourpy>=1.0.1 in /home/andretelfer/anaconda3/envs/DLC_38/lib/python3.8/site-packages (from matplotlib!=3.6.1,>=3.1->seaborn) (1.0.6)\n",
      "Requirement already satisfied: cycler>=0.10 in /home/andretelfer/anaconda3/envs/DLC_38/lib/python3.8/site-packages (from matplotlib!=3.6.1,>=3.1->seaborn) (0.11.0)\n",
      "Requirement already satisfied: pyparsing>=2.2.1 in /home/andretelfer/anaconda3/envs/DLC_38/lib/python3.8/site-packages (from matplotlib!=3.6.1,>=3.1->seaborn) (3.0.9)\n",
      "Requirement already satisfied: python-dateutil>=2.7 in /home/andretelfer/anaconda3/envs/DLC_38/lib/python3.8/site-packages (from matplotlib!=3.6.1,>=3.1->seaborn) (2.8.2)\n",
      "Requirement already satisfied: kiwisolver>=1.0.1 in /home/andretelfer/anaconda3/envs/DLC_38/lib/python3.8/site-packages (from matplotlib!=3.6.1,>=3.1->seaborn) (1.4.4)\n",
      "Requirement already satisfied: packaging>=20.0 in /home/andretelfer/anaconda3/envs/DLC_38/lib/python3.8/site-packages (from matplotlib!=3.6.1,>=3.1->seaborn) (22.0)\n",
      "Requirement already satisfied: pillow>=6.2.0 in /home/andretelfer/anaconda3/envs/DLC_38/lib/python3.8/site-packages (from matplotlib!=3.6.1,>=3.1->seaborn) (9.4.0)\n",
      "Requirement already satisfied: pytz>=2020.1 in /home/andretelfer/anaconda3/envs/DLC_38/lib/python3.8/site-packages (from pandas>=0.25->seaborn) (2022.7)\n",
      "Requirement already satisfied: six>=1.5 in /home/andretelfer/anaconda3/envs/DLC_38/lib/python3.8/site-packages (from python-dateutil>=2.7->matplotlib!=3.6.1,>=3.1->seaborn) (1.16.0)\n",
      "Installing collected packages: seaborn\n",
      "Successfully installed seaborn-0.12.2\n",
      "Note: you may need to restart the kernel to use updated packages.\n"
     ]
    }
   ],
   "source": [
    "pip install seaborn"
   ]
  },
  {
   "cell_type": "code",
   "execution_count": 3,
   "metadata": {},
   "outputs": [],
   "source": [
    "import mouse_gait_analysis\n",
    "import pandas as pd\n",
    "import matplotlib.pyplot as plt\n",
    "import seaborn as sns\n",
    "\n",
    "from tqdm import tqdm\n",
    "from skimage import draw\n",
    "\n",
    "from mouse_gait_analysis.io import *\n",
    "from mouse_gait_analysis.utils import *\n",
    "from mouse_gait_analysis.plots import *\n",
    "\n",
    "# data_folder = Path(\"/shared/thea/trial-analysis/\")\n",
    "data_folder = Path(\"/home/andretelfer/shared/curated/thea/v3\")\n",
    "\n",
    "treatments = pd.read_csv(data_folder/'treatments.csv')\n",
    "treatments['mouse'] = treatments.Animal.apply(lambda x: f\"m{x:02}\")\n",
    "treatments['treatment'] = treatments['Treatment ']\n",
    "treatments = treatments[['mouse', 'treatment']]"
   ]
  },
  {
   "cell_type": "code",
   "execution_count": null,
   "metadata": {},
   "outputs": [],
   "source": [
    "raw_videos = [\n",
    "    'm01_baseline.mp4',\n",
    "    'm01_recording1.mp4',\n",
    "    'm01_recording2.mp4',\n",
    "    'm01_recording3.mp4',\n",
    "]\n",
    "raw_videos = list(map(lambda x: Path(data_folder / 'videos' / x), raw_videos))"
   ]
  },
  {
   "cell_type": "code",
   "execution_count": null,
   "metadata": {},
   "outputs": [],
   "source": [
    "results = []\n",
    "\n",
    "\n",
    "print(len(raw_videos))\n",
    "for video_idx, video in enumerate(raw_videos):\n",
    "    print(f\"Video {video_idx+1}/{len(raw_videos)}\")\n",
    "    fname = video.parts[-1].split('.')[0]\n",
    "\n",
    "    try:\n",
    "        dlc_file = next(data_folder.glob(f'labels/{fname}DLC*.h5'))\n",
    "    except:\n",
    "        print(\"DID NOT FIND DLC FILE!\")\n",
    "        continue\n",
    "\n",
    "    video_analysis = VideoAnalysis(\n",
    "        video,\n",
    "        dlc_file)\n"
   ]
  }
 ],
 "metadata": {
  "kernelspec": {
   "display_name": "DLC_38",
   "language": "python",
   "name": "python3"
  },
  "language_info": {
   "codemirror_mode": {
    "name": "ipython",
    "version": 3
   },
   "file_extension": ".py",
   "mimetype": "text/x-python",
   "name": "python",
   "nbconvert_exporter": "python",
   "pygments_lexer": "ipython3",
   "version": "3.8.15"
  },
  "orig_nbformat": 4,
  "vscode": {
   "interpreter": {
    "hash": "cc9837c34371404ad8ca14860ffa429acdc90abd065cf1eedbcfb55b47263f6a"
   }
  }
 },
 "nbformat": 4,
 "nbformat_minor": 2
}
